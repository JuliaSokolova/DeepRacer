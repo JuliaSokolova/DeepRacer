{
 "cells": [
  {
   "cell_type": "markdown",
   "metadata": {},
   "source": [
    "# INSTRUCTIONS\n",
    "\n",
    "#### Part 1: Computing the optimal speed from the optimal racing line\n",
    "- Part 1 of this notebook takes the optimal racing line, which can be generated with Race-Line-Calculation.ipynb ([GitHub](https://github.com/cdthompson/deepracer-k1999-race-lines)), and generates the optimal speed for each point on the racing line\n",
    "- Input: .py file with 2D array containing optimal racing line: 2 columns (x,y)\n",
    "- Output: .py file with 2D array: 4 columns (x,y,speed,expected time). This array can be inserted into the reward function\n",
    "- Note: The last point of the racing line is deleted because it is the same point as the first one\n",
    "\n",
    "#### Part 2: Computing the Action Space\n",
    "- Part 2 of this notebook takes the optimal racing line and speed, and uses K-Means with Gaussian Noise infused data, to calculate the action space\n",
    "\n",
    "#### Acknowledgement \n",
    "\n",
    "This notebook was forked from https://github.com/dgnzlz/Capstone_AWS_DeepRacer\n",
    "For more details, please refer to the original repo."
   ]
  },
  {
   "cell_type": "code",
   "execution_count": 76,
   "metadata": {},
   "outputs": [],
   "source": [
    "%matplotlib inline\n",
    "\n",
    "import numpy as np\n",
    "import pandas as pd\n",
    "from scipy import stats\n",
    "import math\n",
    "\n",
    "# Ignore deprecation warnings we have no power over\n",
    "import warnings\n",
    "warnings.filterwarnings('ignore')"
   ]
  },
  {
   "cell_type": "code",
   "execution_count": 77,
   "metadata": {},
   "outputs": [],
   "source": [
    "# Path of the optimal racing line (.npy file)\n",
    "fpath = \"reInvent2019_track-1000-4-2020-09-21-211335.npy\"\n",
    "\n",
    "# Change manually (this is only so that output files are named correctly)\n",
    "TRACK_NAME = \"2019 DeepRacer Championship Cup\"\n",
    "\n",
    "racing_track = np.load(fpath)\n",
    "\n",
    "# Convert np array to list and remove last point because it is the same point as the first one\n",
    "racing_track = racing_track.tolist()[:-1]"
   ]
  },
  {
   "cell_type": "markdown",
   "metadata": {},
   "source": [
    "# Helper functions for Part 1 and Part 2"
   ]
  },
  {
   "cell_type": "code",
   "execution_count": 78,
   "metadata": {},
   "outputs": [],
   "source": [
    "# Uses previous and next coords to calculate the radius of the curve\n",
    "# so you need to pass a list with form [[x1,y1],[x2,y2],[x3,y3]]\n",
    "# Input 3 coords [[x1,y1],[x2,y2],[x3,y3]]\n",
    "def circle_radius(coords):\n",
    "\n",
    "    # Flatten the list and assign to variables (makes code easier to read later)\n",
    "    x1, y1, x2, y2, x3, y3 = [i for sub in coords for i in sub]\n",
    "\n",
    "    a = x1*(y2-y3) - y1*(x2-x3) + x2*y3 - x3*y2\n",
    "    b = (x1**2+y1**2)*(y3-y2) + (x2**2+y2**2)*(y1-y3) + (x3**2+y3**2)*(y2-y1)\n",
    "    c = (x1**2+y1**2)*(x2-x3) + (x2**2+y2**2)*(x3-x1) + (x3**2+y3**2)*(x1-x2)\n",
    "    d = (x1**2+y1**2)*(x3*y2-x2*y3) + (x2**2+y2**2) * \\\n",
    "        (x1*y3-x3*y1) + (x3**2+y3**2)*(x2*y1-x1*y2)\n",
    "\n",
    "    # In case a is zero (so radius is infinity)\n",
    "    try:\n",
    "        r = abs((b**2+c**2-4*a*d) / abs(4*a**2)) ** 0.5\n",
    "    except:\n",
    "        r = 999\n",
    "\n",
    "    return r\n",
    "\n",
    "\n",
    "# Returns indexes of next index and index+lookfront\n",
    "# We need this to calculate the radius for next track section.\n",
    "def circle_indexes(mylist, index_car, add_index_1=0, add_index_2=0):\n",
    "\n",
    "    list_len = len(mylist)\n",
    "\n",
    "    # if index >= list_len:\n",
    "    #     raise ValueError(\"Index out of range in circle_indexes()\")\n",
    "\n",
    "    # Use modulo to consider that track is cyclical\n",
    "    index_1 = (index_car + add_index_1) % list_len\n",
    "    index_2 = (index_car + add_index_2) % list_len\n",
    "\n",
    "    return [index_car, index_1, index_2]\n",
    "\n",
    "\n",
    "def optimal_velocity(track, min_speed, max_speed, look_ahead_points):\n",
    "\n",
    "    # Calculate the radius for every point of the track\n",
    "    radius = []\n",
    "    for i in range(len(track)):\n",
    "        indexes = circle_indexes(track, i, add_index_1=-1, add_index_2=1)\n",
    "        coords = [track[indexes[0]],\n",
    "                  track[indexes[1]], track[indexes[2]]]\n",
    "        radius.append(circle_radius(coords))\n",
    "\n",
    "    # Get the max_velocity for the smallest radius\n",
    "    # That value should multiplied by a constant multiple\n",
    "    v_min_r = min(radius)**0.5\n",
    "    constant_multiple = min_speed / v_min_r\n",
    "    print('Constant multiple for optimal speed:{}'.format(constant_multiple))\n",
    " \n",
    "\n",
    "    if look_ahead_points == 0:\n",
    "        # Get the maximal velocity from radius\n",
    "        max_velocity = [(constant_multiple * i**0.5) for i in radius]\n",
    "        # Get velocity from max_velocity (cap at MAX_SPEED)\n",
    "        velocity = [min(v, max_speed) for v in max_velocity]\n",
    "        return velocity\n",
    "\n",
    "    else:\n",
    "        # Looks at the next n radii of points and takes the minimum\n",
    "        # goal: reduce lookahead until car crashes bc no time to break\n",
    "        LOOK_AHEAD_POINTS = look_ahead_points\n",
    "        radius_lookahead = []\n",
    "        for i in range(len(radius)):\n",
    "            next_n_radius = []\n",
    "            for j in range(LOOK_AHEAD_POINTS+1):\n",
    "                index = circle_indexes(\n",
    "                    mylist=radius, index_car=i, add_index_1=j)[1]\n",
    "                next_n_radius.append(radius[index])\n",
    "            radius_lookahead.append(min(next_n_radius))\n",
    "        max_velocity_lookahead = [(constant_multiple * i**0.5)\n",
    "                                  for i in radius_lookahead]\n",
    "        velocity_lookahead = [min(v, max_speed)\n",
    "                              for v in max_velocity_lookahead]\n",
    "        return velocity_lookahead\n",
    "\n",
    "\n",
    "# For each point in racing track, check if left curve (returns boolean)\n",
    "def is_left_curve(coords):\n",
    "\n",
    "    # Flatten the list and assign to variables (makes code easier to read later)\n",
    "    x1, y1, x2, y2, x3, y3 = [i for sub in coords for i in sub]\n",
    "\n",
    "    return ((x2-x1)*(y3-y1) - (y2-y1)*(x3-x1)) > 0\n",
    "\n",
    "\n",
    "# Calculate the distance between 2 points\n",
    "def dist_2_points(x1, x2, y1, y2):\n",
    "        return abs(abs(x1-x2)**2 + abs(y1-y2)**2)**0.5"
   ]
  },
  {
   "cell_type": "markdown",
   "metadata": {},
   "source": [
    "# Part 1: Calculate optimal speed\n",
    "\n",
    "- Change ```LOOK_AHEAD_POINTS``` to influence how many points the algorithm looks ahead (the higher, the sooner the car will start to break)\n",
    "- Change ```MIN_SPEED``` and ```MAX_SPEED``` to fit the track and model !"
   ]
  },
  {
   "cell_type": "code",
   "execution_count": 79,
   "metadata": {},
   "outputs": [
    {
     "name": "stdout",
     "output_type": "stream",
     "text": [
      "Constant multiple for optimal speed:1.23665538623\n"
     ]
    }
   ],
   "source": [
    "LOOK_AHEAD_POINTS = 5\n",
    "MIN_SPEED = 1.3\n",
    "MAX_SPEED = 3\n",
    "\n",
    "# Calculate optimal speed\n",
    "velocity = optimal_velocity(track=racing_track, \n",
    "    min_speed=MIN_SPEED, max_speed=MAX_SPEED, look_ahead_points=LOOK_AHEAD_POINTS)"
   ]
  },
  {
   "cell_type": "markdown",
   "metadata": {},
   "source": [
    "#### Visualization"
   ]
  },
  {
   "cell_type": "code",
   "execution_count": 80,
   "metadata": {},
   "outputs": [
    {
     "name": "stdout",
     "output_type": "stream",
     "text": [
      "Constant multiple for optimal speed:1.23665538623\n"
     ]
    },
    {
     "data": {
      "image/png": "[encoded data removed]",
      "text/plain": [
       "<Figure size 576x360 with 1 Axes>"
      ]
     },
     "metadata": {
      "needs_background": "light"
     },
     "output_type": "display_data"
    },
    {
     "data": {
      "image/png": "[encoded data removed]",
      "text/plain": [
       "<Figure size 576x360 with 1 Axes>"
      ]
     },
     "metadata": {
      "needs_background": "light"
     },
     "output_type": "display_data"
    }
   ],
   "source": [
    "from matplotlib import pyplot as plt\n",
    "import seaborn as sns\n",
    "\n",
    "x = [i[0] for i in racing_track]\n",
    "y = [i[1] for i in racing_track]\n",
    "\n",
    "# Without lookahead\n",
    "velocity_no_lookahead = optimal_velocity(track=racing_track,\n",
    "    min_speed=MIN_SPEED, max_speed=MAX_SPEED, look_ahead_points=0)\n",
    "\n",
    "fig, ax = plt.subplots(figsize=(8, 5))\n",
    "ax = sns.scatterplot(x=x, y=y, hue=velocity_no_lookahead,\n",
    "                     palette=\"vlag\").set_title(\"Without lookahead\")\n",
    "\n",
    "fig, ax = plt.subplots(figsize=(8, 5))\n",
    "ax = sns.scatterplot(x=x, y=y, hue=velocity, palette=\"vlag\").set_title(\n",
    "    \"With lookahead:{}\".format(LOOK_AHEAD_POINTS))"
   ]
  },
  {
   "cell_type": "markdown",
   "metadata": {},
   "source": [
    "#### Calculate distance and optimal time between each racing point"
   ]
  },
  {
   "cell_type": "code",
   "execution_count": 81,
   "metadata": {},
   "outputs": [
    {
     "name": "stdout",
     "output_type": "stream",
     "text": [
      "Total time for track, if racing line and speeds are followed perfectly: 10.7275261824 s\n"
     ]
    }
   ],
   "source": [
    "distance_to_prev = []\n",
    "for i in range(len(racing_track)):\n",
    "    indexes = circle_indexes(racing_track, i, add_index_1=-1, add_index_2=0)[0:2]\n",
    "    coords = [racing_track[indexes[0]],racing_track[indexes[1]]]\n",
    "    dist_to_prev = dist_2_points(x1=coords[0][0], x2=coords[1][0], y1=coords[0][1], y2=coords[1][1])\n",
    "    distance_to_prev.append(dist_to_prev)\n",
    "    \n",
    "time_to_prev = [(distance_to_prev[i]/velocity[i]) for i in range(len(racing_track))]\n",
    "\n",
    "total_time = sum(time_to_prev)\n",
    "print(\"Total time for track, if racing line and speeds are followed perfectly: {} s\".format(total_time))"
   ]
  },
  {
   "cell_type": "markdown",
   "metadata": {},
   "source": [
    "## Append everything together and save to .txt file"
   ]
  },
  {
   "cell_type": "code",
   "execution_count": 82,
   "metadata": {},
   "outputs": [],
   "source": [
    "# Now we have list with columns (x,y,speed,distance,time)\n",
    "racing_track_everything = []\n",
    "for i in range(len(racing_track)):\n",
    "    racing_track_everything.append([racing_track[i][0],\n",
    "                                    racing_track[i][1],\n",
    "                                    velocity[i],\n",
    "                                    time_to_prev[i]])\n",
    "# Round to 5 decimals\n",
    "racing_track_everything = np.around(racing_track_everything, 5).tolist()"
   ]
  },
  {
   "cell_type": "code",
   "execution_count": 83,
   "metadata": {},
   "outputs": [],
   "source": [
    "# Write to txt file\n",
    "with open('optimals_newest_{}.txt'.format(TRACK_NAME), 'w') as f:\n",
    "    f.write(\"[\")\n",
    "    for line in racing_track_everything:\n",
    "        f.write(\"%s\" % line)\n",
    "        if line != racing_track_everything[-1]:\n",
    "            f.write(\",\\n\")\n",
    "    f.write(\"]\")"
   ]
  },
  {
   "cell_type": "markdown",
   "metadata": {},
   "source": [
    "# Part 2: Calculate Optimal Action Space"
   ]
  },
  {
   "cell_type": "code",
   "execution_count": 84,
   "metadata": {},
   "outputs": [],
   "source": [
    "# Calculate the radius for every point of the racing_track\n",
    "radius = []\n",
    "for i in range(len(racing_track)):\n",
    "    indexes = circle_indexes(racing_track, i, add_index_1=-1, add_index_2=1) # CHANGE BACK? 1;2\n",
    "    coords = [racing_track[indexes[0]],\n",
    "              racing_track[indexes[1]], racing_track[indexes[2]]]\n",
    "    radius.append(circle_radius(coords))\n",
    "\n",
    "# Calculate curve direction\n",
    "left_curve = []\n",
    "for i in range(len(racing_track)):\n",
    "    indexes = circle_indexes(racing_track, i, add_index_1=-1, add_index_2=1)\n",
    "    coords = [racing_track[indexes[1]],\n",
    "              racing_track[indexes[0]], racing_track[indexes[2]]]\n",
    "    left_curve.append(is_left_curve(coords))\n",
    "\n",
    "# Calculate radius with + and - for direction (+ is left, - is right)\n",
    "radius_direction = []\n",
    "for i in range(len(racing_track)):\n",
    "    radius_with_direction = radius[i]\n",
    "    if left_curve[i] == False:\n",
    "        radius_with_direction *= -1\n",
    "    radius_direction.append(radius_with_direction)\n",
    "\n",
    "# Calculate steering with + and -\n",
    "dist_wheels_front_back = 0.165 # meters\n",
    "steering = []\n",
    "for i in range(len(racing_track)):\n",
    "    steer = math.degrees(math.asin(dist_wheels_front_back/radius_direction[i]))\n",
    "    steering.append(steer)\n",
    "    \n",
    "# Merge relevant lists into dataframe\n",
    "all_actions = pd.DataFrame({\"velocity\":velocity,\n",
    "                            \"steering\":steering})"
   ]
  },
  {
   "cell_type": "code",
   "execution_count": 85,
   "metadata": {},
   "outputs": [
    {
     "data": {
      "text/plain": [
       "<matplotlib.axes._subplots.AxesSubplot at 0x7f01706d2790>"
      ]
     },
     "execution_count": 85,
     "metadata": {},
     "output_type": "execute_result"
    },
    {
     "data": {
      "image/png": "[encoded data removed]",
      "text/plain": [
       "<Figure size 432x288 with 1 Axes>"
      ]
     },
     "metadata": {
      "needs_background": "light"
     },
     "output_type": "display_data"
    }
   ],
   "source": [
    "all_actions.steering.hist()"
   ]
  },
  {
   "cell_type": "code",
   "execution_count": 102,
   "metadata": {},
   "outputs": [
    {
     "name": "stdout",
     "output_type": "stream",
     "text": [
      "<class 'pandas.core.frame.DataFrame'>\n",
      "RangeIndex: 154 entries, 0 to 153\n",
      "Data columns (total 2 columns):\n",
      "steering    154 non-null float64\n",
      "velocity    154 non-null float64\n",
      "dtypes: float64(2)\n",
      "memory usage: 2.5 KB\n"
     ]
    }
   ],
   "source": [
    "all_actions.info()"
   ]
  },
  {
   "cell_type": "code",
   "execution_count": 86,
   "metadata": {},
   "outputs": [
    {
     "data": {
      "text/plain": [
       "1.1050688010268064"
      ]
     },
     "execution_count": 86,
     "metadata": {},
     "output_type": "execute_result"
    }
   ],
   "source": [
    "min(radius)"
   ]
  },
  {
   "cell_type": "code",
   "execution_count": 87,
   "metadata": {},
   "outputs": [
    {
     "data": {
      "text/plain": [
       "<matplotlib.axes._subplots.AxesSubplot at 0x7f0170687b90>"
      ]
     },
     "execution_count": 87,
     "metadata": {},
     "output_type": "execute_result"
    },
    {
     "data": {
      "image/png": "[encoded data removed]",
      "text/plain": [
       "<Figure size 432x288 with 1 Axes>"
      ]
     },
     "metadata": {
      "needs_background": "light"
     },
     "output_type": "display_data"
    }
   ],
   "source": [
    "all_actions.velocity.hist()"
   ]
  },
  {
   "cell_type": "code",
   "execution_count": 88,
   "metadata": {},
   "outputs": [
    {
     "data": {
      "text/plain": [
       "Text(0.5,1,'With lookahead: 5')"
      ]
     },
     "execution_count": 88,
     "metadata": {},
     "output_type": "execute_result"
    },
    {
     "data": {
      "image/png": "[encoded data removed]",
      "text/plain": [
       "<Figure size 432x288 with 1 Axes>"
      ]
     },
     "metadata": {
      "needs_background": "light"
     },
     "output_type": "display_data"
    }
   ],
   "source": [
    "# Visualize action space\n",
    "ax = sns.scatterplot(data=all_actions, x=\"steering\", y=\"velocity\")\n",
    "ax.invert_xaxis()\n",
    "ax.set_title(\"With lookahead: {}\".format(LOOK_AHEAD_POINTS))"
   ]
  },
  {
   "cell_type": "code",
   "execution_count": 89,
   "metadata": {},
   "outputs": [
    {
     "data": {
      "image/png": "[encoded data removed]",
      "text/plain": [
       "<Figure size 720x360 with 2 Axes>"
      ]
     },
     "metadata": {
      "needs_background": "light"
     },
     "output_type": "display_data"
    }
   ],
   "source": [
    "# Visualize all actions\n",
    "plt.figure(figsize=(10, 5))\n",
    "sns.lineplot(data=all_actions[\"velocity\"], color=\"r\")\n",
    "ax2 = plt.twinx()\n",
    "sns.lineplot(data=all_actions[\"steering\"], color=\"g\", ax=ax2)\n",
    "plt.axhline(0, ls='--', color=\"g\")\n",
    "a = plt.title(\"Speed (red), Steering (green; positive=left)\")"
   ]
  },
  {
   "cell_type": "markdown",
   "metadata": {},
   "source": [
    "#### Calculate Action Space with K-Means and Resampling each point with normal distribution"
   ]
  },
  {
   "cell_type": "code",
   "execution_count": 90,
   "metadata": {},
   "outputs": [
    {
     "data": {
      "text/plain": [
       "<matplotlib.axes._subplots.AxesSubplot at 0x7f0170cf5e50>"
      ]
     },
     "execution_count": 90,
     "metadata": {},
     "output_type": "execute_result"
    },
    {
     "data": {
      "image/png": "[encoded data removed]",
      "text/plain": [
       "<Figure size 432x288 with 1 Axes>"
      ]
     },
     "metadata": {
      "needs_background": "light"
     },
     "output_type": "display_data"
    }
   ],
   "source": [
    "# Steering: Find standard deviation so that probability of >10 degrees steering is 5%\n",
    "steering_sd = -15 / stats.norm.ppf(0.05)\n",
    "steering_sd\n",
    "sns.distplot(np.random.normal(0,steering_sd,10000))"
   ]
  },
  {
   "cell_type": "code",
   "execution_count": 91,
   "metadata": {},
   "outputs": [
    {
     "data": {
      "text/plain": [
       "9.119352478676534"
      ]
     },
     "execution_count": 91,
     "metadata": {},
     "output_type": "execute_result"
    }
   ],
   "source": [
    "steering_sd"
   ]
  },
  {
   "cell_type": "code",
   "execution_count": 92,
   "metadata": {},
   "outputs": [
    {
     "data": {
      "text/plain": [
       "<matplotlib.axes._subplots.AxesSubplot at 0x7f0176ea2850>"
      ]
     },
     "execution_count": 92,
     "metadata": {},
     "output_type": "execute_result"
    },
    {
     "data": {
      "image/png": "[encoded data removed]",
      "text/plain": [
       "<Figure size 432x288 with 1 Axes>"
      ]
     },
     "metadata": {
      "needs_background": "light"
     },
     "output_type": "display_data"
    }
   ],
   "source": [
    "# Velocity: Find standard deviation so that probability of >0.25m/s deviation is 0%\n",
    "# Note: Here, probability is set to 0%, so no noise regarding velocity\n",
    "velocity_sd = -0.25 / stats.norm.ppf(0.00)\n",
    "velocity_sd\n",
    "sns.distplot(np.random.normal(0,velocity_sd,10000))"
   ]
  },
  {
   "cell_type": "code",
   "execution_count": 93,
   "metadata": {},
   "outputs": [
    {
     "data": {
      "text/plain": [
       "(160391, 2)"
      ]
     },
     "execution_count": 93,
     "metadata": {},
     "output_type": "execute_result"
    }
   ],
   "source": [
    "all_actions_norm = all_actions.copy()\n",
    "\n",
    "all_actions_norm_len = len(all_actions_norm)\n",
    "resample_size = 1000\n",
    "\n",
    "# Add gaussian noise to action space\n",
    "for i in range(all_actions_norm_len):\n",
    "    v_true = all_actions_norm.iloc[i][\"velocity\"]\n",
    "    s_true = all_actions_norm.iloc[i][\"steering\"]\n",
    "    v_norm = np.random.normal(loc=v_true, scale=velocity_sd, size=resample_size)\n",
    "    s_norm = np.random.normal(loc=s_true, scale=steering_sd, size=resample_size)\n",
    "    vs_norm = pd.DataFrame(np.column_stack([v_norm,s_norm]), columns=[\"velocity\",\"steering\"])\n",
    "    all_actions_norm = pd.concat([all_actions_norm,vs_norm], axis=0, ignore_index=True)\n",
    "    \n",
    "# Take out actions with max speed, so that they are not affected by gaussian noise\n",
    "# We do this because there are disproportionally many points with max speed, so \n",
    "# K-Means will focus too much on these\n",
    "all_actions_norm = all_actions_norm[all_actions_norm[\"velocity\"] < MAX_SPEED]\n",
    "    \n",
    "# Add initial actions to action space (to make clustering more focused on initial actions)\n",
    "add_n_initial_actions = int(resample_size / 8)\n",
    "add_initial_actions = pd.DataFrame()\n",
    "for i in range(add_n_initial_actions):\n",
    "    add_initial_actions = pd.concat([add_initial_actions,all_actions], axis=0, ignore_index=True)\n",
    "all_actions_norm = pd.concat([all_actions_norm,add_initial_actions], axis=0, ignore_index=True)\n",
    "\n",
    "\n",
    "# Display actions shape\n",
    "all_actions_norm.shape"
   ]
  },
  {
   "cell_type": "code",
   "execution_count": 94,
   "metadata": {},
   "outputs": [
    {
     "data": {
      "text/html": [
       "<div>\n",
       "<style scoped>\n",
       "    .dataframe tbody tr th:only-of-type {\n",
       "        vertical-align: middle;\n",
       "    }\n",
       "\n",
       "    .dataframe tbody tr th {\n",
       "        vertical-align: top;\n",
       "    }\n",
       "\n",
       "    .dataframe thead th {\n",
       "        text-align: right;\n",
       "    }\n",
       "</style>\n",
       "<table border=\"1\" class=\"dataframe\">\n",
       "  <thead>\n",
       "    <tr style=\"text-align: right;\">\n",
       "      <th></th>\n",
       "      <th>steering</th>\n",
       "      <th>velocity</th>\n",
       "    </tr>\n",
       "  </thead>\n",
       "  <tbody>\n",
       "    <tr>\n",
       "      <th>0</th>\n",
       "      <td>7.498929</td>\n",
       "      <td>1.390505</td>\n",
       "    </tr>\n",
       "    <tr>\n",
       "      <th>1</th>\n",
       "      <td>7.134038</td>\n",
       "      <td>1.425429</td>\n",
       "    </tr>\n",
       "    <tr>\n",
       "      <th>2</th>\n",
       "      <td>7.064529</td>\n",
       "      <td>1.432005</td>\n",
       "    </tr>\n",
       "    <tr>\n",
       "      <th>3</th>\n",
       "      <td>7.042404</td>\n",
       "      <td>1.432005</td>\n",
       "    </tr>\n",
       "    <tr>\n",
       "      <th>4</th>\n",
       "      <td>7.051367</td>\n",
       "      <td>1.432005</td>\n",
       "    </tr>\n",
       "    <tr>\n",
       "      <th>5</th>\n",
       "      <td>7.068331</td>\n",
       "      <td>1.432005</td>\n",
       "    </tr>\n",
       "    <tr>\n",
       "      <th>6</th>\n",
       "      <td>7.064794</td>\n",
       "      <td>1.432362</td>\n",
       "    </tr>\n",
       "    <tr>\n",
       "      <th>7</th>\n",
       "      <td>7.009482</td>\n",
       "      <td>1.437974</td>\n",
       "    </tr>\n",
       "    <tr>\n",
       "      <th>8</th>\n",
       "      <td>6.872505</td>\n",
       "      <td>1.452163</td>\n",
       "    </tr>\n",
       "    <tr>\n",
       "      <th>9</th>\n",
       "      <td>6.630598</td>\n",
       "      <td>1.478293</td>\n",
       "    </tr>\n",
       "    <tr>\n",
       "      <th>10</th>\n",
       "      <td>6.272268</td>\n",
       "      <td>1.519755</td>\n",
       "    </tr>\n",
       "    <tr>\n",
       "      <th>11</th>\n",
       "      <td>5.801128</td>\n",
       "      <td>1.580036</td>\n",
       "    </tr>\n",
       "    <tr>\n",
       "      <th>12</th>\n",
       "      <td>5.235890</td>\n",
       "      <td>1.662873</td>\n",
       "    </tr>\n",
       "    <tr>\n",
       "      <th>13</th>\n",
       "      <td>4.606276</td>\n",
       "      <td>1.772601</td>\n",
       "    </tr>\n",
       "    <tr>\n",
       "      <th>14</th>\n",
       "      <td>3.945511</td>\n",
       "      <td>1.915014</td>\n",
       "    </tr>\n",
       "    <tr>\n",
       "      <th>15</th>\n",
       "      <td>3.281554</td>\n",
       "      <td>2.099573</td>\n",
       "    </tr>\n",
       "    <tr>\n",
       "      <th>16</th>\n",
       "      <td>2.630234</td>\n",
       "      <td>2.344936</td>\n",
       "    </tr>\n",
       "    <tr>\n",
       "      <th>17</th>\n",
       "      <td>1.992418</td>\n",
       "      <td>2.694049</td>\n",
       "    </tr>\n",
       "    <tr>\n",
       "      <th>18</th>\n",
       "      <td>-0.473791</td>\n",
       "      <td>2.771345</td>\n",
       "    </tr>\n",
       "    <tr>\n",
       "      <th>19</th>\n",
       "      <td>-0.309372</td>\n",
       "      <td>2.463026</td>\n",
       "    </tr>\n",
       "    <tr>\n",
       "      <th>20</th>\n",
       "      <td>-0.229099</td>\n",
       "      <td>2.253650</td>\n",
       "    </tr>\n",
       "    <tr>\n",
       "      <th>21</th>\n",
       "      <td>0.819428</td>\n",
       "      <td>2.098938</td>\n",
       "    </tr>\n",
       "    <tr>\n",
       "      <th>22</th>\n",
       "      <td>1.312807</td>\n",
       "      <td>1.979989</td>\n",
       "    </tr>\n",
       "    <tr>\n",
       "      <th>23</th>\n",
       "      <td>1.882785</td>\n",
       "      <td>1.888005</td>\n",
       "    </tr>\n",
       "    <tr>\n",
       "      <th>24</th>\n",
       "      <td>2.383917</td>\n",
       "      <td>1.818820</td>\n",
       "    </tr>\n",
       "    <tr>\n",
       "      <th>25</th>\n",
       "      <td>2.847802</td>\n",
       "      <td>1.770379</td>\n",
       "    </tr>\n",
       "    <tr>\n",
       "      <th>26</th>\n",
       "      <td>3.283540</td>\n",
       "      <td>1.741451</td>\n",
       "    </tr>\n",
       "    <tr>\n",
       "      <th>27</th>\n",
       "      <td>3.690445</td>\n",
       "      <td>1.730979</td>\n",
       "    </tr>\n",
       "    <tr>\n",
       "      <th>28</th>\n",
       "      <td>4.059392</td>\n",
       "      <td>1.730979</td>\n",
       "    </tr>\n",
       "    <tr>\n",
       "      <th>29</th>\n",
       "      <td>4.374681</td>\n",
       "      <td>1.730979</td>\n",
       "    </tr>\n",
       "    <tr>\n",
       "      <th>...</th>\n",
       "      <td>...</td>\n",
       "      <td>...</td>\n",
       "    </tr>\n",
       "    <tr>\n",
       "      <th>160361</th>\n",
       "      <td>-4.028908</td>\n",
       "      <td>1.895123</td>\n",
       "    </tr>\n",
       "    <tr>\n",
       "      <th>160362</th>\n",
       "      <td>-3.984966</td>\n",
       "      <td>1.905525</td>\n",
       "    </tr>\n",
       "    <tr>\n",
       "      <th>160363</th>\n",
       "      <td>-3.810109</td>\n",
       "      <td>1.948693</td>\n",
       "    </tr>\n",
       "    <tr>\n",
       "      <th>160364</th>\n",
       "      <td>-3.516048</td>\n",
       "      <td>2.028434</td>\n",
       "    </tr>\n",
       "    <tr>\n",
       "      <th>160365</th>\n",
       "      <td>-3.119738</td>\n",
       "      <td>2.153279</td>\n",
       "    </tr>\n",
       "    <tr>\n",
       "      <th>160366</th>\n",
       "      <td>-2.608964</td>\n",
       "      <td>2.354469</td>\n",
       "    </tr>\n",
       "    <tr>\n",
       "      <th>160367</th>\n",
       "      <td>-2.243642</td>\n",
       "      <td>2.538813</td>\n",
       "    </tr>\n",
       "    <tr>\n",
       "      <th>160368</th>\n",
       "      <td>-1.897526</td>\n",
       "      <td>2.447185</td>\n",
       "    </tr>\n",
       "    <tr>\n",
       "      <th>160369</th>\n",
       "      <td>-1.602227</td>\n",
       "      <td>2.225532</td>\n",
       "    </tr>\n",
       "    <tr>\n",
       "      <th>160370</th>\n",
       "      <td>-1.543138</td>\n",
       "      <td>2.007504</td>\n",
       "    </tr>\n",
       "    <tr>\n",
       "      <th>160371</th>\n",
       "      <td>1.573082</td>\n",
       "      <td>1.881641</td>\n",
       "    </tr>\n",
       "    <tr>\n",
       "      <th>160372</th>\n",
       "      <td>1.926823</td>\n",
       "      <td>1.740793</td>\n",
       "    </tr>\n",
       "    <tr>\n",
       "      <th>160373</th>\n",
       "      <td>2.414899</td>\n",
       "      <td>1.622822</td>\n",
       "    </tr>\n",
       "    <tr>\n",
       "      <th>160374</th>\n",
       "      <td>2.920279</td>\n",
       "      <td>1.537816</td>\n",
       "    </tr>\n",
       "    <tr>\n",
       "      <th>160375</th>\n",
       "      <td>3.589842</td>\n",
       "      <td>1.442303</td>\n",
       "    </tr>\n",
       "    <tr>\n",
       "      <th>160376</th>\n",
       "      <td>4.086947</td>\n",
       "      <td>1.379248</td>\n",
       "    </tr>\n",
       "    <tr>\n",
       "      <th>160377</th>\n",
       "      <td>4.776533</td>\n",
       "      <td>1.336728</td>\n",
       "    </tr>\n",
       "    <tr>\n",
       "      <th>160378</th>\n",
       "      <td>5.498306</td>\n",
       "      <td>1.311051</td>\n",
       "    </tr>\n",
       "    <tr>\n",
       "      <th>160379</th>\n",
       "      <td>6.125239</td>\n",
       "      <td>1.300000</td>\n",
       "    </tr>\n",
       "    <tr>\n",
       "      <th>160380</th>\n",
       "      <td>6.967255</td>\n",
       "      <td>1.300000</td>\n",
       "    </tr>\n",
       "    <tr>\n",
       "      <th>160381</th>\n",
       "      <td>7.622562</td>\n",
       "      <td>1.300000</td>\n",
       "    </tr>\n",
       "    <tr>\n",
       "      <th>160382</th>\n",
       "      <td>8.118434</td>\n",
       "      <td>1.300000</td>\n",
       "    </tr>\n",
       "    <tr>\n",
       "      <th>160383</th>\n",
       "      <td>8.441848</td>\n",
       "      <td>1.300000</td>\n",
       "    </tr>\n",
       "    <tr>\n",
       "      <th>160384</th>\n",
       "      <td>8.587056</td>\n",
       "      <td>1.300000</td>\n",
       "    </tr>\n",
       "    <tr>\n",
       "      <th>160385</th>\n",
       "      <td>8.570313</td>\n",
       "      <td>1.301260</td>\n",
       "    </tr>\n",
       "    <tr>\n",
       "      <th>160386</th>\n",
       "      <td>8.426625</td>\n",
       "      <td>1.312226</td>\n",
       "    </tr>\n",
       "    <tr>\n",
       "      <th>160387</th>\n",
       "      <td>8.200736</td>\n",
       "      <td>1.330049</td>\n",
       "    </tr>\n",
       "    <tr>\n",
       "      <th>160388</th>\n",
       "      <td>7.937738</td>\n",
       "      <td>1.351757</td>\n",
       "    </tr>\n",
       "    <tr>\n",
       "      <th>160389</th>\n",
       "      <td>7.676291</td>\n",
       "      <td>1.374442</td>\n",
       "    </tr>\n",
       "    <tr>\n",
       "      <th>160390</th>\n",
       "      <td>7.207395</td>\n",
       "      <td>1.390505</td>\n",
       "    </tr>\n",
       "  </tbody>\n",
       "</table>\n",
       "<p>160391 rows × 2 columns</p>\n",
       "</div>"
      ],
      "text/plain": [
       "        steering  velocity\n",
       "0       7.498929  1.390505\n",
       "1       7.134038  1.425429\n",
       "2       7.064529  1.432005\n",
       "3       7.042404  1.432005\n",
       "4       7.051367  1.432005\n",
       "5       7.068331  1.432005\n",
       "6       7.064794  1.432362\n",
       "7       7.009482  1.437974\n",
       "8       6.872505  1.452163\n",
       "9       6.630598  1.478293\n",
       "10      6.272268  1.519755\n",
       "11      5.801128  1.580036\n",
       "12      5.235890  1.662873\n",
       "13      4.606276  1.772601\n",
       "14      3.945511  1.915014\n",
       "15      3.281554  2.099573\n",
       "16      2.630234  2.344936\n",
       "17      1.992418  2.694049\n",
       "18     -0.473791  2.771345\n",
       "19     -0.309372  2.463026\n",
       "20     -0.229099  2.253650\n",
       "21      0.819428  2.098938\n",
       "22      1.312807  1.979989\n",
       "23      1.882785  1.888005\n",
       "24      2.383917  1.818820\n",
       "25      2.847802  1.770379\n",
       "26      3.283540  1.741451\n",
       "27      3.690445  1.730979\n",
       "28      4.059392  1.730979\n",
       "29      4.374681  1.730979\n",
       "...          ...       ...\n",
       "160361 -4.028908  1.895123\n",
       "160362 -3.984966  1.905525\n",
       "160363 -3.810109  1.948693\n",
       "160364 -3.516048  2.028434\n",
       "160365 -3.119738  2.153279\n",
       "160366 -2.608964  2.354469\n",
       "160367 -2.243642  2.538813\n",
       "160368 -1.897526  2.447185\n",
       "160369 -1.602227  2.225532\n",
       "160370 -1.543138  2.007504\n",
       "160371  1.573082  1.881641\n",
       "160372  1.926823  1.740793\n",
       "160373  2.414899  1.622822\n",
       "160374  2.920279  1.537816\n",
       "160375  3.589842  1.442303\n",
       "160376  4.086947  1.379248\n",
       "160377  4.776533  1.336728\n",
       "160378  5.498306  1.311051\n",
       "160379  6.125239  1.300000\n",
       "160380  6.967255  1.300000\n",
       "160381  7.622562  1.300000\n",
       "160382  8.118434  1.300000\n",
       "160383  8.441848  1.300000\n",
       "160384  8.587056  1.300000\n",
       "160385  8.570313  1.301260\n",
       "160386  8.426625  1.312226\n",
       "160387  8.200736  1.330049\n",
       "160388  7.937738  1.351757\n",
       "160389  7.676291  1.374442\n",
       "160390  7.207395  1.390505\n",
       "\n",
       "[160391 rows x 2 columns]"
      ]
     },
     "execution_count": 94,
     "metadata": {},
     "output_type": "execute_result"
    }
   ],
   "source": [
    "all_actions_norm"
   ]
  },
  {
   "cell_type": "code",
   "execution_count": 95,
   "metadata": {},
   "outputs": [
    {
     "data": {
      "image/png": "[encoded data removed]",
      "text/plain": [
       "<Figure size 432x288 with 1 Axes>"
      ]
     },
     "metadata": {
      "needs_background": "light"
     },
     "output_type": "display_data"
    }
   ],
   "source": [
    "all_actions_norm_less = all_actions_norm.sample(frac=0.01).reset_index(drop=True) # sample bc less compute time\n",
    "ax = sns.kdeplot(data=all_actions_norm_less[\"steering\"],data2=all_actions_norm_less[\"velocity\"])\n",
    "ax.invert_xaxis()"
   ]
  },
  {
   "cell_type": "code",
   "execution_count": 96,
   "metadata": {},
   "outputs": [],
   "source": [
    "X = all_actions_norm\n",
    "\n",
    "# Calculate action space with KMeans\n",
    "\n",
    "from sklearn.preprocessing import MinMaxScaler\n",
    "from sklearn.cluster import MiniBatchKMeans\n",
    "\n",
    "# Rescale data with minmax\n",
    "minmax_scaler = MinMaxScaler()\n",
    "X_minmax = pd.DataFrame(minmax_scaler.fit_transform(X), \n",
    "                                           columns=[\"velocity\",\"steering\"])\n",
    "\n",
    "# KMeans\n",
    "# remove 2 actions from KMeans so that low speed & high steering actions can be manually included\n",
    "n_clusters = 21-2\n",
    "model = MiniBatchKMeans(n_clusters=n_clusters).fit(X_minmax)\n",
    "\n",
    "# Centroids (interpretable)\n",
    "from sklearn.preprocessing import MinMaxScaler\n",
    "minmax_scaler = MinMaxScaler()\n",
    "X_minmax_fit = minmax_scaler.fit(X)\n",
    "X_centroids = pd.DataFrame(X_minmax_fit.inverse_transform(model.cluster_centers_), \n",
    "                                   columns=[\"steering\",\"velocity\"])\n",
    "\n",
    "# Add 2 manual actions\n",
    "# Reason: When car starts new episode, it does not start on or direction of racing line, so \n",
    "# it cannot steer enough to get on racing line\n",
    "manual_actions = pd.DataFrame({\"velocity\":[MIN_SPEED,MIN_SPEED],\"steering\":[30,-30]})\n",
    "X_centroids = pd.concat([X_centroids,manual_actions], ignore_index=True)\n",
    "\n",
    "action_space_e = X_centroids.copy()"
   ]
  },
  {
   "cell_type": "code",
   "execution_count": 97,
   "metadata": {},
   "outputs": [
    {
     "data": {
      "text/html": [
       "<div>\n",
       "<style scoped>\n",
       "    .dataframe tbody tr th:only-of-type {\n",
       "        vertical-align: middle;\n",
       "    }\n",
       "\n",
       "    .dataframe tbody tr th {\n",
       "        vertical-align: top;\n",
       "    }\n",
       "\n",
       "    .dataframe thead th {\n",
       "        text-align: right;\n",
       "    }\n",
       "</style>\n",
       "<table border=\"1\" class=\"dataframe\">\n",
       "  <thead>\n",
       "    <tr style=\"text-align: right;\">\n",
       "      <th></th>\n",
       "      <th>steering</th>\n",
       "      <th>velocity</th>\n",
       "    </tr>\n",
       "  </thead>\n",
       "  <tbody>\n",
       "    <tr>\n",
       "      <th>0</th>\n",
       "      <td>8.640385</td>\n",
       "      <td>1.337739</td>\n",
       "    </tr>\n",
       "    <tr>\n",
       "      <th>1</th>\n",
       "      <td>-0.254646</td>\n",
       "      <td>1.953527</td>\n",
       "    </tr>\n",
       "    <tr>\n",
       "      <th>2</th>\n",
       "      <td>5.900612</td>\n",
       "      <td>2.661484</td>\n",
       "    </tr>\n",
       "    <tr>\n",
       "      <th>3</th>\n",
       "      <td>1.489954</td>\n",
       "      <td>2.269450</td>\n",
       "    </tr>\n",
       "    <tr>\n",
       "      <th>4</th>\n",
       "      <td>2.177277</td>\n",
       "      <td>1.598923</td>\n",
       "    </tr>\n",
       "    <tr>\n",
       "      <th>5</th>\n",
       "      <td>-9.435498</td>\n",
       "      <td>1.432048</td>\n",
       "    </tr>\n",
       "    <tr>\n",
       "      <th>6</th>\n",
       "      <td>19.685070</td>\n",
       "      <td>1.383639</td>\n",
       "    </tr>\n",
       "    <tr>\n",
       "      <th>7</th>\n",
       "      <td>15.580041</td>\n",
       "      <td>1.733801</td>\n",
       "    </tr>\n",
       "    <tr>\n",
       "      <th>8</th>\n",
       "      <td>-9.966307</td>\n",
       "      <td>2.206831</td>\n",
       "    </tr>\n",
       "    <tr>\n",
       "      <th>9</th>\n",
       "      <td>-9.215583</td>\n",
       "      <td>2.725772</td>\n",
       "    </tr>\n",
       "    <tr>\n",
       "      <th>10</th>\n",
       "      <td>12.207563</td>\n",
       "      <td>2.191637</td>\n",
       "    </tr>\n",
       "    <tr>\n",
       "      <th>11</th>\n",
       "      <td>0.034934</td>\n",
       "      <td>1.370912</td>\n",
       "    </tr>\n",
       "    <tr>\n",
       "      <th>12</th>\n",
       "      <td>-11.506660</td>\n",
       "      <td>1.867861</td>\n",
       "    </tr>\n",
       "    <tr>\n",
       "      <th>13</th>\n",
       "      <td>8.392306</td>\n",
       "      <td>1.463189</td>\n",
       "    </tr>\n",
       "    <tr>\n",
       "      <th>14</th>\n",
       "      <td>-0.305633</td>\n",
       "      <td>2.484474</td>\n",
       "    </tr>\n",
       "    <tr>\n",
       "      <th>15</th>\n",
       "      <td>2.492909</td>\n",
       "      <td>1.759344</td>\n",
       "    </tr>\n",
       "    <tr>\n",
       "      <th>16</th>\n",
       "      <td>0.705518</td>\n",
       "      <td>2.926257</td>\n",
       "    </tr>\n",
       "    <tr>\n",
       "      <th>17</th>\n",
       "      <td>11.009847</td>\n",
       "      <td>1.918921</td>\n",
       "    </tr>\n",
       "    <tr>\n",
       "      <th>18</th>\n",
       "      <td>15.849360</td>\n",
       "      <td>2.793274</td>\n",
       "    </tr>\n",
       "    <tr>\n",
       "      <th>19</th>\n",
       "      <td>30.000000</td>\n",
       "      <td>1.300000</td>\n",
       "    </tr>\n",
       "    <tr>\n",
       "      <th>20</th>\n",
       "      <td>-30.000000</td>\n",
       "      <td>1.300000</td>\n",
       "    </tr>\n",
       "  </tbody>\n",
       "</table>\n",
       "</div>"
      ],
      "text/plain": [
       "     steering  velocity\n",
       "0    8.640385  1.337739\n",
       "1   -0.254646  1.953527\n",
       "2    5.900612  2.661484\n",
       "3    1.489954  2.269450\n",
       "4    2.177277  1.598923\n",
       "5   -9.435498  1.432048\n",
       "6   19.685070  1.383639\n",
       "7   15.580041  1.733801\n",
       "8   -9.966307  2.206831\n",
       "9   -9.215583  2.725772\n",
       "10  12.207563  2.191637\n",
       "11   0.034934  1.370912\n",
       "12 -11.506660  1.867861\n",
       "13   8.392306  1.463189\n",
       "14  -0.305633  2.484474\n",
       "15   2.492909  1.759344\n",
       "16   0.705518  2.926257\n",
       "17  11.009847  1.918921\n",
       "18  15.849360  2.793274\n",
       "19  30.000000  1.300000\n",
       "20 -30.000000  1.300000"
      ]
     },
     "execution_count": 97,
     "metadata": {},
     "output_type": "execute_result"
    }
   ],
   "source": [
    "action_space_e"
   ]
  },
  {
   "cell_type": "code",
   "execution_count": 98,
   "metadata": {},
   "outputs": [
    {
     "data": {
      "image/png": "[encoded data removed]",
      "text/plain": [
       "<Figure size 432x288 with 1 Axes>"
      ]
     },
     "metadata": {
      "needs_background": "light"
     },
     "output_type": "display_data"
    }
   ],
   "source": [
    "ax = sns.scatterplot(data=all_actions, x=\"steering\", y=\"velocity\", alpha=.1)\n",
    "ax = sns.scatterplot(data=action_space_e, x=\"steering\", y=\"velocity\")\n",
    "ax.invert_xaxis()"
   ]
  },
  {
   "cell_type": "markdown",
   "metadata": {},
   "source": [
    "*Note: Action space can be different every time it is computed because of randome resampling with gaussian noise and also because of the random seed with K-Means. Therefore, try out multiple iterations until you are happy with the result*"
   ]
  },
  {
   "cell_type": "markdown",
   "metadata": {},
   "source": [
    "#### Output as JSON format"
   ]
  },
  {
   "cell_type": "code",
   "execution_count": 99,
   "metadata": {},
   "outputs": [
    {
     "data": {
      "text/html": [
       "<div>\n",
       "<style scoped>\n",
       "    .dataframe tbody tr th:only-of-type {\n",
       "        vertical-align: middle;\n",
       "    }\n",
       "\n",
       "    .dataframe tbody tr th {\n",
       "        vertical-align: top;\n",
       "    }\n",
       "\n",
       "    .dataframe thead th {\n",
       "        text-align: right;\n",
       "    }\n",
       "</style>\n",
       "<table border=\"1\" class=\"dataframe\">\n",
       "  <thead>\n",
       "    <tr style=\"text-align: right;\">\n",
       "      <th></th>\n",
       "      <th>steering_angle</th>\n",
       "      <th>speed</th>\n",
       "      <th>index</th>\n",
       "    </tr>\n",
       "  </thead>\n",
       "  <tbody>\n",
       "    <tr>\n",
       "      <th>0</th>\n",
       "      <td>8.6404</td>\n",
       "      <td>1.3377</td>\n",
       "      <td>0</td>\n",
       "    </tr>\n",
       "    <tr>\n",
       "      <th>1</th>\n",
       "      <td>-0.2546</td>\n",
       "      <td>1.9535</td>\n",
       "      <td>1</td>\n",
       "    </tr>\n",
       "    <tr>\n",
       "      <th>2</th>\n",
       "      <td>5.9006</td>\n",
       "      <td>2.6615</td>\n",
       "      <td>2</td>\n",
       "    </tr>\n",
       "    <tr>\n",
       "      <th>3</th>\n",
       "      <td>1.4900</td>\n",
       "      <td>2.2695</td>\n",
       "      <td>3</td>\n",
       "    </tr>\n",
       "    <tr>\n",
       "      <th>4</th>\n",
       "      <td>2.1773</td>\n",
       "      <td>1.5989</td>\n",
       "      <td>4</td>\n",
       "    </tr>\n",
       "    <tr>\n",
       "      <th>5</th>\n",
       "      <td>-9.4355</td>\n",
       "      <td>1.4320</td>\n",
       "      <td>5</td>\n",
       "    </tr>\n",
       "    <tr>\n",
       "      <th>6</th>\n",
       "      <td>19.6851</td>\n",
       "      <td>1.3836</td>\n",
       "      <td>6</td>\n",
       "    </tr>\n",
       "    <tr>\n",
       "      <th>7</th>\n",
       "      <td>15.5800</td>\n",
       "      <td>1.7338</td>\n",
       "      <td>7</td>\n",
       "    </tr>\n",
       "    <tr>\n",
       "      <th>8</th>\n",
       "      <td>-9.9663</td>\n",
       "      <td>2.2068</td>\n",
       "      <td>8</td>\n",
       "    </tr>\n",
       "    <tr>\n",
       "      <th>9</th>\n",
       "      <td>-9.2156</td>\n",
       "      <td>2.7258</td>\n",
       "      <td>9</td>\n",
       "    </tr>\n",
       "    <tr>\n",
       "      <th>10</th>\n",
       "      <td>12.2076</td>\n",
       "      <td>2.1916</td>\n",
       "      <td>10</td>\n",
       "    </tr>\n",
       "    <tr>\n",
       "      <th>11</th>\n",
       "      <td>0.0349</td>\n",
       "      <td>1.3709</td>\n",
       "      <td>11</td>\n",
       "    </tr>\n",
       "    <tr>\n",
       "      <th>12</th>\n",
       "      <td>-11.5067</td>\n",
       "      <td>1.8679</td>\n",
       "      <td>12</td>\n",
       "    </tr>\n",
       "    <tr>\n",
       "      <th>13</th>\n",
       "      <td>8.3923</td>\n",
       "      <td>1.4632</td>\n",
       "      <td>13</td>\n",
       "    </tr>\n",
       "    <tr>\n",
       "      <th>14</th>\n",
       "      <td>-0.3056</td>\n",
       "      <td>2.4845</td>\n",
       "      <td>14</td>\n",
       "    </tr>\n",
       "    <tr>\n",
       "      <th>15</th>\n",
       "      <td>2.4929</td>\n",
       "      <td>1.7593</td>\n",
       "      <td>15</td>\n",
       "    </tr>\n",
       "    <tr>\n",
       "      <th>16</th>\n",
       "      <td>0.7055</td>\n",
       "      <td>2.9263</td>\n",
       "      <td>16</td>\n",
       "    </tr>\n",
       "    <tr>\n",
       "      <th>17</th>\n",
       "      <td>11.0098</td>\n",
       "      <td>1.9189</td>\n",
       "      <td>17</td>\n",
       "    </tr>\n",
       "    <tr>\n",
       "      <th>18</th>\n",
       "      <td>15.8494</td>\n",
       "      <td>2.7933</td>\n",
       "      <td>18</td>\n",
       "    </tr>\n",
       "    <tr>\n",
       "      <th>19</th>\n",
       "      <td>30.0000</td>\n",
       "      <td>1.3000</td>\n",
       "      <td>19</td>\n",
       "    </tr>\n",
       "    <tr>\n",
       "      <th>20</th>\n",
       "      <td>-30.0000</td>\n",
       "      <td>1.3000</td>\n",
       "      <td>20</td>\n",
       "    </tr>\n",
       "  </tbody>\n",
       "</table>\n",
       "</div>"
      ],
      "text/plain": [
       "    steering_angle   speed  index\n",
       "0           8.6404  1.3377      0\n",
       "1          -0.2546  1.9535      1\n",
       "2           5.9006  2.6615      2\n",
       "3           1.4900  2.2695      3\n",
       "4           2.1773  1.5989      4\n",
       "5          -9.4355  1.4320      5\n",
       "6          19.6851  1.3836      6\n",
       "7          15.5800  1.7338      7\n",
       "8          -9.9663  2.2068      8\n",
       "9          -9.2156  2.7258      9\n",
       "10         12.2076  2.1916     10\n",
       "11          0.0349  1.3709     11\n",
       "12        -11.5067  1.8679     12\n",
       "13          8.3923  1.4632     13\n",
       "14         -0.3056  2.4845     14\n",
       "15          2.4929  1.7593     15\n",
       "16          0.7055  2.9263     16\n",
       "17         11.0098  1.9189     17\n",
       "18         15.8494  2.7933     18\n",
       "19         30.0000  1.3000     19\n",
       "20        -30.0000  1.3000     20"
      ]
     },
     "execution_count": 99,
     "metadata": {},
     "output_type": "execute_result"
    }
   ],
   "source": [
    "# Output JSON format\n",
    "action_space_for_json = action_space_e[[\"steering\",\"velocity\"]].copy()\n",
    "    \n",
    "action_space_for_json = action_space_for_json.round(4)\n",
    "action_space_for_json.columns = [\"steering_angle\",\"speed\"]\n",
    "action_space_for_json[\"index\"] = action_space_for_json.index\n",
    "json_text = action_space_for_json.to_json(orient=\"records\", lines=False)\n",
    "\n",
    "action_space_for_json"
   ]
  },
  {
   "cell_type": "code",
   "execution_count": 101,
   "metadata": {},
   "outputs": [],
   "source": [
    "with open('AS21_newest_{}.txt'.format(TRACK_NAME), 'w') as f:\n",
    "    f.write(json_text)"
   ]
  },
  {
   "cell_type": "code",
   "execution_count": null,
   "metadata": {},
   "outputs": [],
   "source": []
  }
 ],
 "metadata": {
  "kernelspec": {
   "display_name": "conda_amazonei_mxnet_p27",
   "language": "python",
   "name": "conda_amazonei_mxnet_p27"
  },
  "language_info": {
   "codemirror_mode": {
    "name": "ipython",
    "version": 2
   },
   "file_extension": ".py",
   "mimetype": "text/x-python",
   "name": "python",
   "nbconvert_exporter": "python",
   "pygments_lexer": "ipython2",
   "version": "2.7.17"
  }
 },
 "nbformat": 4,
 "nbformat_minor": 4
}
